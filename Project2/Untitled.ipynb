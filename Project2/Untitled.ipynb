{
 "cells": [
  {
   "cell_type": "code",
   "execution_count": 21,
   "metadata": {},
   "outputs": [],
   "source": [
    "class Animal:\n",
    "    Roam = \"\"\n",
    "    Name = \"\"\n",
    "    Type = \"\"\n",
    "    def __init__():\n",
    "        return\n",
    "    def sleep():\n",
    "        return \"Goes to bed\"\n",
    "    def eat():\n",
    "        return \"Eats\"\n",
    "    def wake():\n",
    "        return \"Wakes up\"\n",
    "    def performRoam():\n",
    "        return\n",
    "    def setRoamBehavior(self):\n",
    "        self.Roam = \"whatever\"\n",
    "    \n",
    "class Canine(Animal):\n",
    "    def __init__(self):\n",
    "        self.Type = \"Canine\"\n",
    "        setRoamBehavior = new roamPack()\n",
    "class Dog(Canine):\n",
    "    def __init__(self, Name):\n",
    "        Superclass\n",
    "        self.Name = Name"
   ]
  },
  {
   "cell_type": "code",
   "execution_count": null,
   "metadata": {},
   "outputs": [],
   "source": []
  }
 ],
 "metadata": {
  "kernelspec": {
   "display_name": "Python 3",
   "language": "python",
   "name": "python3"
  },
  "language_info": {
   "codemirror_mode": {
    "name": "ipython",
    "version": 3
   },
   "file_extension": ".py",
   "mimetype": "text/x-python",
   "name": "python",
   "nbconvert_exporter": "python",
   "pygments_lexer": "ipython3",
   "version": "3.6.4"
  }
 },
 "nbformat": 4,
 "nbformat_minor": 2
}
